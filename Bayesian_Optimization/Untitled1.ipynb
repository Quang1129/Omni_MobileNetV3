{
 "cells": [
  {
   "cell_type": "code",
   "execution_count": 1,
   "id": "f4d6c304-4226-4551-acb8-b55100472401",
   "metadata": {},
   "outputs": [],
   "source": [
    "from kaggle.api.kaggle_api_extended import KaggleApi"
   ]
  },
  {
   "cell_type": "code",
   "execution_count": 2,
   "id": "b1ea024d-67bd-48ca-ae59-1f71c7fd7487",
   "metadata": {},
   "outputs": [],
   "source": [
    "api = KaggleApi()\n",
    "api.authenticate()"
   ]
  },
  {
   "cell_type": "code",
   "execution_count": 4,
   "id": "d8db4751-477d-40ec-aaef-2f8740f96326",
   "metadata": {},
   "outputs": [],
   "source": [
    "dataset_name = \"prashant268/chest-xray-covid19-pneumonia\"\n",
    "\n",
    "api.dataset_download_files(dataset_name, path='./chest_xrays', unzip=True)\n"
   ]
  },
  {
   "cell_type": "code",
   "execution_count": null,
   "id": "c5b9ddd2-4fb9-4a91-8f48-a8d78cee2431",
   "metadata": {},
   "outputs": [],
   "source": []
  }
 ],
 "metadata": {
  "kernelspec": {
   "display_name": "Python 3 (ipykernel)",
   "language": "python",
   "name": "python3"
  },
  "language_info": {
   "codemirror_mode": {
    "name": "ipython",
    "version": 3
   },
   "file_extension": ".py",
   "mimetype": "text/x-python",
   "name": "python",
   "nbconvert_exporter": "python",
   "pygments_lexer": "ipython3",
   "version": "3.10.11"
  }
 },
 "nbformat": 4,
 "nbformat_minor": 5
}
